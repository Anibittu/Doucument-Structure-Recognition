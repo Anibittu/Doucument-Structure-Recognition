{
 "cells": [
  {
   "cell_type": "code",
   "execution_count": 3,
   "metadata": {},
   "outputs": [],
   "source": [
    "import pytesseract"
   ]
  },
  {
   "cell_type": "code",
   "execution_count": 2,
   "metadata": {},
   "outputs": [
    {
     "name": "stdout",
     "output_type": "stream",
     "text": [
      "Requirement already satisfied: pytesseract in /home/anish/anaconda3/lib/python3.7/site-packages (0.3.4)\n",
      "Requirement already satisfied: Pillow in /home/anish/anaconda3/lib/python3.7/site-packages (from pytesseract) (7.0.0)\n",
      "Note: you may need to restart the kernel to use updated packages.\n"
     ]
    }
   ],
   "source": [
    "pip install pytesseract\n"
   ]
  },
  {
   "cell_type": "code",
   "execution_count": 2,
   "metadata": {},
   "outputs": [],
   "source": [
    "def img_to_df(image):\n",
    "    text = pytesseract.image_to_data(image, lang='eng')\n",
    "    return text"
   ]
  },
  {
   "cell_type": "code",
   "execution_count": 3,
   "metadata": {},
   "outputs": [
    {
     "data": {
      "text/plain": [
       "'level\\tpage_num\\tblock_num\\tpar_num\\tline_num\\tword_num\\tleft\\ttop\\twidth\\theight\\tconf\\ttext\\n1\\t1\\t0\\t0\\t0\\t0\\t0\\t0\\t276\\t183\\t-1\\t\\n2\\t1\\t1\\t0\\t0\\t0\\t59\\t0\\t217\\t8\\t-1\\t\\n3\\t1\\t1\\t1\\t0\\t0\\t59\\t0\\t217\\t8\\t-1\\t\\n4\\t1\\t1\\t1\\t1\\t0\\t59\\t0\\t217\\t8\\t-1\\t\\n5\\t1\\t1\\t1\\t1\\t1\\t59\\t0\\t118\\t8\\t17\\tSERS\\n5\\t1\\t1\\t1\\t1\\t2\\t0\\t0\\t276\\t183\\t0\\tBoas\\n5\\t1\\t1\\t1\\t1\\t3\\t191\\t0\\t85\\t8\\t21\\taie\\n5\\t1\\t1\\t1\\t1\\t4\\t0\\t0\\t276\\t183\\t44\\tSee\\n2\\t1\\t2\\t0\\t0\\t0\\t28\\t12\\t214\\t120\\t-1\\t\\n3\\t1\\t2\\t1\\t0\\t0\\t28\\t12\\t214\\t120\\t-1\\t\\n4\\t1\\t2\\t1\\t1\\t0\\t29\\t12\\t213\\t7\\t-1\\t\\n5\\t1\\t2\\t1\\t1\\t1\\t29\\t12\\t32\\t7\\t0\\tIOXI0\"\\n5\\t1\\t2\\t1\\t1\\t2\\t128\\t12\\t22\\t7\\t52\\ta0\\n5\\t1\\t2\\t1\\t1\\t3\\t227\\t12\\t15\\t6\\t48\\t120\\n4\\t1\\t2\\t1\\t2\\t0\\t28\\t25\\t214\\t7\\t-1\\t\\n5\\t1\\t2\\t1\\t2\\t1\\t28\\t25\\t33\\t7\\t53\\t250x109\\n5\\t1\\t2\\t1\\t2\\t2\\t128\\t25\\t22\\t6\\t39\\tow\\n5\\t1\\t2\\t1\\t2\\t3\\t227\\t25\\t15\\t6\\t45\\tm0\\n4\\t1\\t2\\t1\\t3\\t0\\t28\\t37\\t214\\t7\\t-1\\t\\n5\\t1\\t2\\t1\\t3\\t1\\t28\\t37\\t33\\t7\\t0\\teaxios\\n5\\t1\\t2\\t1\\t3\\t2\\t128\\t37\\t22\\t7\\t56\\tono\\n5\\t1\\t2\\t1\\t3\\t3\\t227\\t37\\t15\\t6\\t31\\tm0\\n4\\t1\\t2\\t1\\t4\\t0\\t29\\t75\\t213\\t7\\t-1\\t\\n5\\t1\\t2\\t1\\t4\\t1\\t29\\t75\\t32\\t7\\t0\\taarxioe\\n5\\t1\\t2\\t1\\t4\\t2\\t130\\t75\\t18\\t6\\t82\\tono\\n5\\t1\\t2\\t1\\t4\\t3\\t227\\t75\\t15\\t6\\t47\\t0\\n4\\t1\\t2\\t1\\t5\\t0\\t29\\t87\\t213\\t7\\t-1\\t\\n5\\t1\\t2\\t1\\t5\\t1\\t29\\t87\\t32\\t7\\t0\\tramxioe\\n5\\t1\\t2\\t1\\t5\\t2\\t133\\t88\\t12\\t6\\t41\\t12\\n5\\t1\\t2\\t1\\t5\\t3\\t227\\t87\\t15\\t7\\t52\\t80\\n4\\t1\\t2\\t1\\t6\\t0\\t30\\t100\\t210\\t7\\t-1\\t\\n5\\t1\\t2\\t1\\t6\\t1\\t30\\t100\\t31\\t7\\t0\\tarxio?\\n5\\t1\\t2\\t1\\t6\\t2\\t133\\t100\\t12\\t6\\t21\\tua\\n5\\t1\\t2\\t1\\t6\\t3\\t228\\t100\\t12\\t6\\t33\\toa\\n4\\t1\\t2\\t1\\t7\\t0\\t28\\t112\\t212\\t7\\t-1\\t\\n5\\t1\\t2\\t1\\t7\\t1\\t28\\t112\\t33\\t7\\t0\\toexio?\\n5\\t1\\t2\\t1\\t7\\t2\\t133\\t112\\t12\\t7\\t40\\t133\\n5\\t1\\t2\\t1\\t7\\t3\\t228\\t112\\t12\\t6\\t46\\tas\\n4\\t1\\t2\\t1\\t8\\t0\\t29\\t124\\t211\\t8\\t-1\\t\\n5\\t1\\t2\\t1\\t8\\t1\\t29\\t124\\t32\\t8\\t7\\tSsanie?\\n5\\t1\\t2\\t1\\t8\\t2\\t133\\t125\\t13\\t6\\t28\\t16\\n5\\t1\\t2\\t1\\t8\\t3\\t229\\t125\\t11\\t6\\t39\\ta\\n2\\t1\\t3\\t0\\t0\\t0\\t19\\t177\\t1\\t4\\t-1\\t\\n3\\t1\\t3\\t1\\t0\\t0\\t19\\t177\\t1\\t4\\t-1\\t\\n4\\t1\\t3\\t1\\t1\\t0\\t19\\t177\\t1\\t4\\t-1\\t\\n5\\t1\\t3\\t1\\t1\\t1\\t19\\t177\\t1\\t4\\t95\\t \\n2\\t1\\t4\\t0\\t0\\t0\\t21\\t174\\t255\\t9\\t-1\\t\\n3\\t1\\t4\\t1\\t0\\t0\\t21\\t174\\t255\\t9\\t-1\\t\\n4\\t1\\t4\\t1\\t1\\t0\\t21\\t174\\t255\\t9\\t-1\\t\\n5\\t1\\t4\\t1\\t1\\t1\\t21\\t175\\t9\\t6\\t36\\tical\\n5\\t1\\t4\\t1\\t1\\t2\\t33\\t175\\t15\\t6\\t77\\tform\\n5\\t1\\t4\\t1\\t1\\t3\\t51\\t175\\t23\\t8\\t39\\t(Figure\\n5\\t1\\t4\\t1\\t1\\t4\\t77\\t175\\t7\\t6\\t72\\t2\\n5\\t1\\t4\\t1\\t1\\t5\\t87\\t175\\t13\\t6\\t86\\twith\\n5\\t1\\t4\\t1\\t1\\t6\\t103\\t176\\t20\\t7\\t71\\toutput\\n5\\t1\\t4\\t1\\t1\\t7\\t126\\t175\\t33\\t6\\t36\\tluminaoee\\n5\\t1\\t4\\t1\\t1\\t8\\t162\\t175\\t12\\t7\\t34\\tplot\\n5\\t1\\t4\\t1\\t1\\t9\\t175\\t175\\t34\\t7\\t0\\tspaiest\\n5\\t1\\t4\\t1\\t1\\t10\\t212\\t176\\t16\\t5\\t36\\ttest\\n5\\t1\\t4\\t1\\t1\\t11\\t231\\t175\\t33\\t6\\t0\\tWoninanee.\\n5\\t1\\t4\\t1\\t1\\t12\\t272\\t174\\t4\\t7\\t70\\t1'"
      ]
     },
     "execution_count": 3,
     "metadata": {},
     "output_type": "execute_result"
    }
   ],
   "source": [
    "img_to_df('download.png')"
   ]
  },
  {
   "cell_type": "code",
   "execution_count": 4,
   "metadata": {},
   "outputs": [
    {
     "data": {
      "text/plain": [
       "'level\\tpage_num\\tblock_num\\tpar_num\\tline_num\\tword_num\\tleft\\ttop\\twidth\\theight\\tconf\\ttext\\n1\\t1\\t0\\t0\\t0\\t0\\t0\\t0\\t893\\t1263\\t-1'"
      ]
     },
     "execution_count": 4,
     "metadata": {},
     "output_type": "execute_result"
    }
   ],
   "source": [
    "img_to_df('sample_images/output011.png')"
   ]
  },
  {
   "cell_type": "code",
   "execution_count": null,
   "metadata": {},
   "outputs": [],
   "source": [
    "ubantu/FgSegNet_v2-master/FgSegNet_v2-master/training_sets/SBI2015_train/train/101.png"
   ]
  },
  {
   "cell_type": "code",
   "execution_count": 6,
   "metadata": {
    "scrolled": true
   },
   "outputs": [
    {
     "data": {
      "text/plain": [
       "'level\\tpage_num\\tblock_num\\tpar_num\\tline_num\\tword_num\\tleft\\ttop\\twidth\\theight\\tconf\\ttext\\n1\\t1\\t0\\t0\\t0\\t0\\t0\\t0\\t540\\t420\\t-1\\t\\n2\\t1\\t1\\t0\\t0\\t0\\t8\\t1\\t532\\t401\\t-1\\t\\n3\\t1\\t1\\t1\\t0\\t0\\t8\\t1\\t532\\t401\\t-1\\t\\n4\\t1\\t1\\t1\\t1\\t0\\t49\\t1\\t491\\t28\\t-1\\t\\n5\\t1\\t1\\t1\\t1\\t1\\t49\\t1\\t66\\t22\\t96\\tThere\\n5\\t1\\t1\\t1\\t1\\t2\\t126\\t1\\t55\\t22\\t96\\texist\\n5\\t1\\t1\\t1\\t1\\t3\\t191\\t1\\t82\\t22\\t96\\tseveral\\n5\\t1\\t1\\t1\\t1\\t4\\t284\\t1\\t103\\t22\\t96\\tmethods\\n5\\t1\\t1\\t1\\t1\\t5\\t399\\t5\\t23\\t18\\t96\\tto\\n5\\t1\\t1\\t1\\t1\\t6\\t433\\t1\\t74\\t28\\t96\\tdesign\\n5\\t1\\t1\\t1\\t1\\t7\\t521\\t1\\t19\\t22\\t96\\tfo\\n4\\t1\\t1\\t1\\t2\\t0\\t10\\t38\\t530\\t28\\t-1\\t\\n5\\t1\\t1\\t1\\t2\\t1\\t10\\t39\\t28\\t21\\t95\\tbe\\n5\\t1\\t1\\t1\\t2\\t2\\t49\\t38\\t56\\t22\\t95\\tfilled\\n5\\t1\\t1\\t1\\t2\\t3\\t115\\t39\\t26\\t21\\t96\\tin.\\n5\\t1\\t1\\t1\\t2\\t4\\t159\\t39\\t39\\t21\\t96\\tFor\\n5\\t1\\t1\\t1\\t2\\t5\\t207\\t39\\t102\\t24\\t96\\tinstance,\\n5\\t1\\t1\\t1\\t2\\t6\\t324\\t38\\t61\\t22\\t96\\tfields\\n5\\t1\\t1\\t1\\t2\\t7\\t395\\t45\\t49\\t21\\t96\\tmay\\n5\\t1\\t1\\t1\\t2\\t8\\t454\\t39\\t28\\t21\\t93\\tbe\\n5\\t1\\t1\\t1\\t2\\t9\\t491\\t45\\t49\\t15\\t91\\tsurr\\n4\\t1\\t1\\t1\\t3\\t0\\t10\\t76\\t530\\t28\\t-1\\t\\n5\\t1\\t1\\t1\\t3\\t1\\t10\\t76\\t37\\t28\\t96\\ting\\n5\\t1\\t1\\t1\\t3\\t2\\t54\\t76\\t70\\t25\\t96\\tboxes,\\n5\\t1\\t1\\t1\\t3\\t3\\t137\\t76\\t13\\t22\\t96\\tby\\n5\\t1\\t1\\t1\\t3\\t4\\t148\\t76\\t77\\t28\\t96\\tlight\\n5\\t1\\t1\\t1\\t3\\t5\\t232\\t76\\t121\\t28\\t96\\trectangles\\n5\\t1\\t1\\t1\\t3\\t6\\t360\\t83\\t24\\t15\\t96\\tor\\n5\\t1\\t1\\t1\\t3\\t7\\t391\\t76\\t27\\t28\\t97\\tby\\n5\\t1\\t1\\t1\\t3\\t8\\t423\\t76\\t91\\t28\\t96\\tguiding\\n5\\t1\\t1\\t1\\t3\\t9\\t521\\t83\\t19\\t15\\t94\\trt\\n4\\t1\\t1\\t1\\t4\\t0\\t10\\t113\\t530\\t28\\t-1\\t\\n5\\t1\\t1\\t1\\t4\\t1\\t10\\t113\\t41\\t22\\t96\\tods\\n5\\t1\\t1\\t1\\t4\\t2\\t61\\t113\\t82\\t28\\t96\\tspecify\\n5\\t1\\t1\\t1\\t4\\t3\\t154\\t113\\t69\\t22\\t96\\twhere\\n5\\t1\\t1\\t1\\t4\\t4\\t235\\t117\\t23\\t18\\t96\\tto\\n5\\t1\\t1\\t1\\t4\\t5\\t270\\t113\\t58\\t22\\t96\\twrite\\n5\\t1\\t1\\t1\\t4\\t6\\t338\\t113\\t48\\t25\\t96\\tand,\\n5\\t1\\t1\\t1\\t4\\t7\\t401\\t113\\t110\\t25\\t93\\ttherefore,\\n5\\t1\\t1\\t1\\t4\\t8\\t525\\t120\\t15\\t14\\t92\\tn\\n4\\t1\\t1\\t1\\t5\\t0\\t10\\t150\\t530\\t28\\t-1\\t\\n5\\t1\\t1\\t1\\t5\\t1\\t10\\t150\\t27\\t22\\t96\\tof\\n5\\t1\\t1\\t1\\t5\\t2\\t43\\t151\\t59\\t21\\t96\\tskew\\n5\\t1\\t1\\t1\\t5\\t3\\t112\\t151\\t44\\t21\\t96\\tand\\n5\\t1\\t1\\t1\\t5\\t4\\t166\\t151\\t139\\t27\\t96\\toverlapping\\n5\\t1\\t1\\t1\\t5\\t5\\t317\\t151\\t49\\t21\\t96\\twith\\n5\\t1\\t1\\t1\\t5\\t6\\t378\\t151\\t64\\t21\\t96\\tother\\n5\\t1\\t1\\t1\\t5\\t7\\t451\\t154\\t61\\t24\\t96\\tparts\\n5\\t1\\t1\\t1\\t5\\t8\\t522\\t157\\t18\\t15\\t37\\toi\\n4\\t1\\t1\\t1\\t6\\t0\\t8\\t188\\t532\\t28\\t-1\\t\\n5\\t1\\t1\\t1\\t6\\t1\\t8\\t188\\t77\\t28\\t96\\tguides\\n5\\t1\\t1\\t1\\t6\\t2\\t99\\t195\\t40\\t15\\t96\\tcan\\n5\\t1\\t1\\t1\\t6\\t3\\t155\\t188\\t27\\t22\\t96\\tbe\\n5\\t1\\t1\\t1\\t6\\t4\\t197\\t188\\t87\\t22\\t95\\tlocated\\n5\\t1\\t1\\t1\\t6\\t5\\t298\\t195\\t28\\t15\\t96\\ton\\n5\\t1\\t1\\t1\\t6\\t6\\t341\\t195\\t12\\t15\\t95\\ta\\n5\\t1\\t1\\t1\\t6\\t7\\t367\\t192\\t100\\t23\\t96\\tseparate\\n5\\t1\\t1\\t1\\t6\\t8\\t481\\t188\\t59\\t22\\t96\\tsheet\\n4\\t1\\t1\\t1\\t7\\t0\\t10\\t225\\t530\\t28\\t-1\\t\\n5\\t1\\t1\\t1\\t7\\t1\\t10\\t225\\t88\\t22\\t96\\tlocated\\n5\\t1\\t1\\t1\\t7\\t2\\t108\\t225\\t69\\t22\\t96\\tbelow\\n5\\t1\\t1\\t1\\t7\\t3\\t188\\t225\\t37\\t22\\t96\\tthe\\n5\\t1\\t1\\t1\\t7\\t4\\t236\\t225\\t53\\t22\\t96\\tform\\n5\\t1\\t1\\t1\\t7\\t5\\t301\\t232\\t24\\t15\\t96\\tor\\n5\\t1\\t1\\t1\\t7\\t6\\t336\\t225\\t50\\t28\\t96\\tthey\\n5\\t1\\t1\\t1\\t7\\t7\\t396\\t232\\t40\\t15\\t96\\tcan\\n5\\t1\\t1\\t1\\t7\\t8\\t448\\t225\\t14\\t22\\t96\\tbe\\n5\\t1\\t1\\t1\\t7\\t9\\t463\\t225\\t77\\t27\\t96\\tprint\\n4\\t1\\t1\\t1\\t8\\t0\\t11\\t262\\t529\\t28\\t-1\\t\\n5\\t1\\t1\\t1\\t8\\t1\\t11\\t262\\t59\\t22\\t95\\tform.\\n5\\t1\\t1\\t1\\t8\\t2\\t95\\t263\\t44\\t21\\t96\\tThe\\n5\\t1\\t1\\t1\\t8\\t3\\t152\\t269\\t38\\t15\\t96\\tuse\\n5\\t1\\t1\\t1\\t8\\t4\\t202\\t262\\t27\\t22\\t96\\tof\\n5\\t1\\t1\\t1\\t8\\t5\\t235\\t263\\t78\\t27\\t96\\tguides\\n5\\t1\\t1\\t1\\t8\\t6\\t324\\t269\\t29\\t15\\t96\\ton\\n5\\t1\\t1\\t1\\t8\\t7\\t366\\t269\\t12\\t15\\t96\\ta\\n5\\t1\\t1\\t1\\t8\\t8\\t390\\t266\\t100\\t24\\t96\\tseparate\\n5\\t1\\t1\\t1\\t8\\t9\\t502\\t263\\t38\\t21\\t96\\tshe\\n4\\t1\\t1\\t1\\t9\\t0\\t11\\t300\\t529\\t28\\t-1\\t\\n5\\t1\\t1\\t1\\t9\\t1\\t11\\t300\\t54\\t22\\t96\\tfrom\\n5\\t1\\t1\\t1\\t9\\t2\\t80\\t300\\t36\\t22\\t96\\tthe\\n5\\t1\\t1\\t1\\t9\\t3\\t128\\t300\\t64\\t27\\t96\\tpoint\\n5\\t1\\t1\\t1\\t9\\t4\\t204\\t300\\t27\\t22\\t96\\tof\\n5\\t1\\t1\\t1\\t9\\t5\\t241\\t300\\t51\\t22\\t96\\tview\\n5\\t1\\t1\\t1\\t9\\t6\\t304\\t300\\t27\\t22\\t96\\tof\\n5\\t1\\t1\\t1\\t9\\t7\\t341\\t300\\t37\\t22\\t96\\tthe\\n5\\t1\\t1\\t1\\t9\\t8\\t390\\t300\\t81\\t28\\t96\\tquality\\n5\\t1\\t1\\t1\\t9\\t9\\t483\\t300\\t27\\t22\\t96\\tof\\n5\\t1\\t1\\t1\\t9\\t10\\t520\\t300\\t20\\t22\\t80\\ttt\\n4\\t1\\t1\\t1\\t10\\t0\\t10\\t338\\t513\\t27\\t-1\\t\\n5\\t1\\t1\\t1\\t10\\t1\\t10\\t338\\t40\\t21\\t96\\tbut\\n5\\t1\\t1\\t1\\t10\\t2\\t63\\t338\\t93\\t27\\t96\\trequires\\n5\\t1\\t1\\t1\\t10\\t3\\t166\\t338\\t74\\t27\\t96\\tgiving\\n5\\t1\\t1\\t1\\t10\\t4\\t252\\t344\\t59\\t15\\t96\\tmore\\n5\\t1\\t1\\t1\\t10\\t5\\t324\\t338\\t139\\t21\\t96\\tinstructions\\n5\\t1\\t1\\t1\\t10\\t6\\t475\\t338\\t48\\t24\\t95\\tand,\\n4\\t1\\t1\\t1\\t11\\t0\\t10\\t374\\t530\\t28\\t-1\\t\\n5\\t1\\t1\\t1\\t11\\t1\\t10\\t375\\t96\\t21\\t96\\trestricts\\n5\\t1\\t1\\t1\\t11\\t2\\t115\\t375\\t28\\t21\\t96\\tits\\n5\\t1\\t1\\t1\\t11\\t3\\t153\\t381\\t38\\t15\\t96\\tuse\\n5\\t1\\t1\\t1\\t11\\t4\\t202\\t378\\t23\\t18\\t96\\tto\\n5\\t1\\t1\\t1\\t11\\t5\\t236\\t375\\t59\\t21\\t96\\ttasks\\n5\\t1\\t1\\t1\\t11\\t6\\t306\\t375\\t69\\t21\\t96\\twhere\\n5\\t1\\t1\\t1\\t11\\t7\\t386\\t375\\t42\\t21\\t96\\tthis\\n5\\t1\\t1\\t1\\t11\\t8\\t438\\t378\\t36\\t24\\t96\\ttype\\n5\\t1\\t1\\t1\\t11\\t9\\t476\\t374\\t48\\t22\\t96\\tof\\n5\\t1\\t1\\t1\\t11\\t10\\t530\\t381\\t10\\t15\\t85\\ta\\n2\\t1\\t2\\t0\\t0\\t0\\t13\\t412\\t335\\t8\\t-1\\t\\n3\\t1\\t2\\t1\\t0\\t0\\t13\\t412\\t335\\t8\\t-1\\t\\n4\\t1\\t2\\t1\\t1\\t0\\t13\\t412\\t335\\t8\\t-1\\t\\n5\\t1\\t2\\t1\\t1\\t1\\t13\\t412\\t16\\t8\\t48\\tom\\n5\\t1\\t2\\t1\\t1\\t2\\t48\\t412\\t55\\t8\\t39\\tbee...\\n5\\t1\\t2\\t1\\t1\\t3\\t138\\t412\\t14\\t8\\t28\\tgp\\n5\\t1\\t2\\t1\\t1\\t4\\t169\\t412\\t117\\t8\\t23\\tOe\\n5\\t1\\t2\\t1\\t1\\t5\\t297\\t412\\t51\\t8\\t49\\tkk'"
      ]
     },
     "execution_count": 6,
     "metadata": {},
     "output_type": "execute_result"
    }
   ],
   "source": [
    "img_to_df('/home/anish/ubantu/FgSegNet_v2-master/FgSegNet_v2-master/training_sets/SBI2015_train/train/101.png')"
   ]
  },
  {
   "cell_type": "code",
   "execution_count": 1,
   "metadata": {},
   "outputs": [],
   "source": [
    "def img_to_df(image):\n",
    "    text = pytesseract.image_to_string(image, lang='eng')\n",
    "    return text"
   ]
  },
  {
   "cell_type": "code",
   "execution_count": 4,
   "metadata": {},
   "outputs": [
    {
     "data": {
      "text/plain": [
       "'There exist several methods to design fo\\nbe filled in. For instance, fields may be surr\\ning boxes, by light rectangles or by guiding rt\\nods specify where to write and, therefore, n\\nof skew and overlapping with other parts oi\\nguides can be located on a separate sheet\\nlocated below the form or they can be print\\nform. The use of guides on a separate she\\nfrom the point of view of the quality of tt\\nbut requires giving more instructions and,\\nrestricts its use to tasks where this type of a\\n\\nom bee... gp Oe kk'"
      ]
     },
     "execution_count": 4,
     "metadata": {},
     "output_type": "execute_result"
    }
   ],
   "source": [
    "img_to_df('/home/anish/ubantu/FgSegNet_v2-master/FgSegNet_v2-master/training_sets/SBI2015_train/train/101.png')"
   ]
  },
  {
   "cell_type": "code",
   "execution_count": 7,
   "metadata": {},
   "outputs": [],
   "source": [
    "import os\n",
    "import cv2\n",
    "#import imutils\n",
    "\n",
    "# This only works if there's only one table on a page\n",
    "# Important parameters:\n",
    "#  - morph_size\n",
    "#  - min_text_height_limit\n",
    "#  - max_text_height_limit\n",
    "#  - cell_threshold\n",
    "#  - min_columns\n",
    "\n",
    "\n",
    "def pre_process_image(img, save_in_file, morph_size=(8, 8)):\n",
    "\n",
    "    # get rid of the color\n",
    "    pre = cv2.cvtColor(img, cv2.COLOR_BGR2GRAY)\n",
    "    # Otsu threshold\n",
    "    pre = cv2.threshold(pre, 250, 255, cv2.THRESH_BINARY | cv2.THRESH_OTSU)[1]\n",
    "    # dilate the text to make it solid spot\n",
    "    cpy = pre.copy()\n",
    "    struct = cv2.getStructuringElement(cv2.MORPH_RECT, morph_size)\n",
    "    cpy = cv2.dilate(~cpy, struct, anchor=(-1, -1), iterations=1)\n",
    "    pre = ~cpy\n",
    "\n",
    "    if save_in_file is not None:\n",
    "        cv2.imwrite(save_in_file, pre)\n",
    "    return pre\n",
    "\n",
    "\n",
    "def find_text_boxes(pre, min_text_height_limit=6, max_text_height_limit=40):\n",
    "    # Looking for the text spots contours\n",
    "    # OpenCV 3\n",
    "    # img, contours, hierarchy = cv2.findContours(pre, cv2.RETR_LIST, cv2.CHAIN_APPROX_SIMPLE)\n",
    "    # OpenCV 4\n",
    "    contours, hierarchy = cv2.findContours(pre, cv2.RETR_LIST, cv2.CHAIN_APPROX_SIMPLE)\n",
    "\n",
    "    # Getting the texts bounding boxes based on the text size assumptions\n",
    "    boxes = []\n",
    "    for contour in contours:\n",
    "        box = cv2.boundingRect(contour)\n",
    "        h = box[3]\n",
    "\n",
    "        if min_text_height_limit < h < max_text_height_limit:\n",
    "            boxes.append(box)\n",
    "\n",
    "    return boxes\n",
    "\n",
    "\n",
    "def find_table_in_boxes(boxes, cell_threshold=10, min_columns=2):\n",
    "    rows = {}\n",
    "    cols = {}\n",
    "\n",
    "    # Clustering the bounding boxes by their positions\n",
    "    for box in boxes:\n",
    "        (x, y, w, h) = box\n",
    "        col_key = x // cell_threshold\n",
    "        row_key = y // cell_threshold\n",
    "        cols[row_key] = [box] if col_key not in cols else cols[col_key] + [box]\n",
    "        rows[row_key] = [box] if row_key not in rows else rows[row_key] + [box]\n",
    "\n",
    "    # Filtering out the clusters having less than 2 cols\n",
    "    table_cells = list(filter(lambda r: len(r) >= min_columns, rows.values()))\n",
    "    # Sorting the row cells by x coord\n",
    "    table_cells = [list(sorted(tb)) for tb in table_cells]\n",
    "    # Sorting rows by the y coord\n",
    "    table_cells = list(sorted(table_cells, key=lambda r: r[0][1]))\n",
    "\n",
    "    return table_cells\n",
    "\n",
    "\n",
    "def build_lines(table_cells):\n",
    "    if table_cells is None or len(table_cells) <= 0:\n",
    "        return [], []\n",
    "\n",
    "    max_last_col_width_row = max(table_cells, key=lambda b: b[-1][2])\n",
    "    max_x = max_last_col_width_row[-1][0] + max_last_col_width_row[-1][2]\n",
    "\n",
    "    max_last_row_height_box = max(table_cells[-1], key=lambda b: b[3])\n",
    "    max_y = max_last_row_height_box[1] + max_last_row_height_box[3]\n",
    "\n",
    "    hor_lines = []\n",
    "    ver_lines = []\n",
    "\n",
    "    for box in table_cells:\n",
    "        x = box[0][0]\n",
    "        y = box[0][1]\n",
    "        hor_lines.append((x, y, max_x, y))\n",
    "\n",
    "    for box in table_cells[0]:\n",
    "        x = box[0]\n",
    "        y = box[1]\n",
    "        ver_lines.append((x, y, x, max_y))\n",
    "\n",
    "    (x, y, w, h) = table_cells[0][-1]\n",
    "    ver_lines.append((max_x, y, max_x, max_y))\n",
    "    (x, y, w, h) = table_cells[0][0]\n",
    "    hor_lines.append((x, max_y, max_x, max_y))\n",
    "\n",
    "    return hor_lines, ver_lines\n",
    "\n",
    "\n",
    "if __name__ == \"__main__\":\n",
    "    in_file = os.path.join('..','table', \"page.jpg\")\n",
    "    pre_file = os.path.join('..','table', \"pre.png\")\n",
    "    out_file = os.path.join('..','table', \"out1.png\")\n",
    "\n",
    "    img = cv2.imread('/home/anish/Downloads/CamScanner 05-06-2020 15.56.08-1.jpg')\n",
    "\n",
    "    pre_processed = pre_process_image(img, pre_file)\n",
    "    text_boxes = find_text_boxes(pre_processed)\n",
    "    cells = find_table_in_boxes(text_boxes)\n",
    "    hor_lines, ver_lines = build_lines(cells)\n",
    "\n",
    "    # Visualize the result\n",
    "    vis = img.copy()\n",
    "\n",
    "    # for box in text_boxes:\n",
    "    #     (x, y, w, h) = box\n",
    "    #     cv2.rectangle(vis, (x, y), (x + w - 2, y + h - 2), (0, 255, 0), 1)\n",
    "\n",
    "    for line in hor_lines:\n",
    "        [x1, y1, x2, y2] = line\n",
    "        cv2.line(vis, (x1, y1), (x2, y2), (0, 0, 255), 1)\n",
    "\n",
    "    for line in ver_lines:\n",
    "        [x1, y1, x2, y2] = line\n",
    "        cv2.line(vis, (x1, y1), (x2, y2), (0, 0, 255), 1)\n",
    "\n",
    "    cv2.imwrite(out_file, vis)"
   ]
  },
  {
   "cell_type": "code",
   "execution_count": 1,
   "metadata": {},
   "outputs": [],
   "source": [
    "import cv2\n",
    "img = cv2.imread(r'/home/anish/Downloads/WhatsApp Image 2020-06-18 at 9.23.06 PM.jpeg')\n",
    "img =cv2.resize(img,(int(540),int(420)))"
   ]
  },
  {
   "cell_type": "code",
   "execution_count": 2,
   "metadata": {},
   "outputs": [],
   "source": [
    "grayImage = cv2.cvtColor(img, cv2.COLOR_BGR2GRAY)"
   ]
  },
  {
   "cell_type": "code",
   "execution_count": 3,
   "metadata": {},
   "outputs": [],
   "source": [
    "\n",
    "(thresh, blackAndWhiteImage) = cv2.threshold(grayImage, 127, 255, cv2.THRESH_BINARY)"
   ]
  },
  {
   "cell_type": "code",
   "execution_count": null,
   "metadata": {},
   "outputs": [],
   "source": []
  },
  {
   "cell_type": "code",
   "execution_count": null,
   "metadata": {},
   "outputs": [],
   "source": [
    "cv2.imshow('here',blackAndWhiteImage)\n",
    "cv2.waitKey(0) "
   ]
  },
  {
   "cell_type": "code",
   "execution_count": null,
   "metadata": {},
   "outputs": [],
   "source": [
    "# Import the necessary libraries\n",
    "import cv2\n",
    "import numpy as np\n",
    "\n",
    "# Read the image as a grayscale image\n",
    "img = cv2.imread('/home/anish/Downloads/WhatsApp Image 2020-06-18 at 9.23.06 PM.jpeg', 0)\n",
    "\n",
    "# Threshold the image\n",
    "ret,img = cv2.threshold(img, 127, 255, 0)\n",
    "\n",
    "# Step 1: Create an empty skeleton\n",
    "size = np.size(img)\n",
    "skel = np.zeros(img.shape, np.uint8)\n",
    "\n",
    "# Get a Cross Shaped Kernel\n",
    "element = cv2.getStructuringElement(cv2.MORPH_CROSS, (3,3))\n",
    "\n",
    "# Repeat steps 2-4\n",
    "while True:\n",
    "    #Step 2: Open the image\n",
    "    open = cv2.morphologyEx(img, cv2.MORPH_OPEN, element)\n",
    "    #Step 3: Substract open from the original image\n",
    "    temp = cv2.subtract(img, open)\n",
    "    #Step 4: Erode the original image and refine the skeleton\n",
    "    eroded = cv2.erode(img, element)\n",
    "    skel = cv2.bitwise_or(skel,temp)\n",
    "    img = eroded.copy()\n",
    "    # Step 5: If there are no white pixels left ie.. the image has been completely eroded, quit the loop\n",
    "    if cv2.countNonZero(img)==0:\n",
    "        break\n",
    "\n",
    "# Displaying the final skeleton\n",
    "cv2.imshow(\"Skeleton\",skel)\n",
    "cv2.waitKey(0)\n",
    "cv2.destroyAllWindows()"
   ]
  },
  {
   "cell_type": "code",
   "execution_count": 2,
   "metadata": {},
   "outputs": [
    {
     "ename": "TypeError",
     "evalue": "Expected Ptr<cv::UMat> for argument 'kernel'",
     "output_type": "error",
     "traceback": [
      "\u001b[0;31m---------------------------------------------------------------------------\u001b[0m",
      "\u001b[0;31mTypeError\u001b[0m                                 Traceback (most recent call last)",
      "\u001b[0;32m<ipython-input-2-af9155681d66>\u001b[0m in \u001b[0;36m<module>\u001b[0;34m\u001b[0m\n\u001b[1;32m      2\u001b[0m \u001b[0;32mimport\u001b[0m \u001b[0mnumpy\u001b[0m \u001b[0;32mas\u001b[0m \u001b[0mnp\u001b[0m\u001b[0;34m\u001b[0m\u001b[0;34m\u001b[0m\u001b[0m\n\u001b[1;32m      3\u001b[0m \u001b[0;32mfrom\u001b[0m \u001b[0mtable\u001b[0m \u001b[0;32mimport\u001b[0m \u001b[0mTableRepositories\u001b[0m\u001b[0;34m\u001b[0m\u001b[0;34m\u001b[0m\u001b[0m\n\u001b[0;32m----> 4\u001b[0;31m \u001b[0mTableRepo\u001b[0m \u001b[0;34m=\u001b[0m \u001b[0mTableRepositories\u001b[0m\u001b[0;34m(\u001b[0m\u001b[0;34m'Capture.PNG'\u001b[0m\u001b[0;34m)\u001b[0m\u001b[0;34m\u001b[0m\u001b[0;34m\u001b[0m\u001b[0m\n\u001b[0m\u001b[1;32m      5\u001b[0m \u001b[0mprint\u001b[0m\u001b[0;34m(\u001b[0m\u001b[0mTableRepo\u001b[0m\u001b[0;34m.\u001b[0m\u001b[0mresponse\u001b[0m\u001b[0;34m)\u001b[0m\u001b[0;34m\u001b[0m\u001b[0;34m\u001b[0m\u001b[0m\n\u001b[1;32m      6\u001b[0m \u001b[0mcv2\u001b[0m\u001b[0;34m.\u001b[0m\u001b[0mimwrite\u001b[0m \u001b[0;34m(\u001b[0m\u001b[0;34m'slate.png'\u001b[0m\u001b[0;34m,\u001b[0m \u001b[0mTableRepo\u001b[0m\u001b[0;34m.\u001b[0m\u001b[0mslate\u001b[0m\u001b[0;34m)\u001b[0m\u001b[0;34m\u001b[0m\u001b[0;34m\u001b[0m\u001b[0m\n",
      "\u001b[0;32m~/ubantu/table/table.py\u001b[0m in \u001b[0;36m__init__\u001b[0;34m(self, filepath, rect, SORT_METHOD, MAX_THRESHOLD_VALUE, BLOCK_SIZE, THRESHOLD_CONSTANT, SCALE)\u001b[0m\n\u001b[1;32m     27\u001b[0m \u001b[0;34m\u001b[0m\u001b[0m\n\u001b[1;32m     28\u001b[0m         \u001b[0mself\u001b[0m\u001b[0;34m.\u001b[0m\u001b[0mload_image\u001b[0m \u001b[0;34m(\u001b[0m\u001b[0;34m)\u001b[0m\u001b[0;34m\u001b[0m\u001b[0;34m\u001b[0m\u001b[0m\n\u001b[0;32m---> 29\u001b[0;31m         \u001b[0mself\u001b[0m\u001b[0;34m.\u001b[0m\u001b[0mget_table_mask\u001b[0m \u001b[0;34m(\u001b[0m\u001b[0;34m)\u001b[0m\u001b[0;34m\u001b[0m\u001b[0;34m\u001b[0m\u001b[0m\n\u001b[0m\u001b[1;32m     30\u001b[0m         \u001b[0mself\u001b[0m\u001b[0;34m.\u001b[0m\u001b[0mtable_indexing\u001b[0m \u001b[0;34m(\u001b[0m\u001b[0;34m)\u001b[0m\u001b[0;34m\u001b[0m\u001b[0;34m\u001b[0m\u001b[0m\n\u001b[1;32m     31\u001b[0m \u001b[0;34m\u001b[0m\u001b[0m\n",
      "\u001b[0;32m~/ubantu/table/table.py\u001b[0m in \u001b[0;36mget_table_mask\u001b[0;34m(self)\u001b[0m\n\u001b[1;32m     52\u001b[0m         \u001b[0;31m#horizontal_structure =[[1,1,1],[1,1,1],[1,1,1]]\u001b[0m\u001b[0;34m\u001b[0m\u001b[0;34m\u001b[0m\u001b[0;34m\u001b[0m\u001b[0m\n\u001b[1;32m     53\u001b[0m         \u001b[0mhorizontal_structure\u001b[0m \u001b[0;34m=\u001b[0m \u001b[0mcv2\u001b[0m\u001b[0;34m.\u001b[0m\u001b[0mgetStructuringElement\u001b[0m \u001b[0;34m(\u001b[0m\u001b[0mcv2\u001b[0m\u001b[0;34m.\u001b[0m\u001b[0mMORPH_RECT\u001b[0m\u001b[0;34m,\u001b[0m \u001b[0;34m(\u001b[0m\u001b[0mhorizontal_size\u001b[0m\u001b[0;34m,\u001b[0m \u001b[0;36m1\u001b[0m\u001b[0;34m)\u001b[0m\u001b[0;34m)\u001b[0m\u001b[0;34m\u001b[0m\u001b[0;34m\u001b[0m\u001b[0m\n\u001b[0;32m---> 54\u001b[0;31m         \u001b[0mhorizontal\u001b[0m \u001b[0;34m=\u001b[0m \u001b[0mcv2\u001b[0m\u001b[0;34m.\u001b[0m\u001b[0merode\u001b[0m \u001b[0;34m(\u001b[0m\u001b[0mhorizontal\u001b[0m\u001b[0;34m,\u001b[0m \u001b[0mhorizontal_structure\u001b[0m\u001b[0;34m,\u001b[0m\u001b[0;34m)\u001b[0m\u001b[0;34m\u001b[0m\u001b[0;34m\u001b[0m\u001b[0m\n\u001b[0m\u001b[1;32m     55\u001b[0m         \u001b[0mhorizontal\u001b[0m \u001b[0;34m=\u001b[0m \u001b[0mcv2\u001b[0m\u001b[0;34m.\u001b[0m\u001b[0mdilate\u001b[0m \u001b[0;34m(\u001b[0m\u001b[0mhorizontal\u001b[0m\u001b[0;34m,\u001b[0m \u001b[0mhorizontal_structure\u001b[0m\u001b[0;34m)\u001b[0m\u001b[0;34m\u001b[0m\u001b[0;34m\u001b[0m\u001b[0m\n\u001b[1;32m     56\u001b[0m \u001b[0;34m\u001b[0m\u001b[0m\n",
      "\u001b[0;31mTypeError\u001b[0m: Expected Ptr<cv::UMat> for argument 'kernel'"
     ]
    }
   ],
   "source": [
    "import cv2\n",
    "import numpy as np\n",
    "from table import TableRepositories \n",
    "TableRepo = TableRepositories('Capture.PNG') \n",
    "print(TableRepo.response)\n",
    "cv2.imwrite ('slate.png', TableRepo.slate)\n",
    "cv2.imwrite ('mask.png', TableRepo.mask)\n",
    "cv2.imwrite ('filtered.png', TableRepo.filtered)\n",
    "kernal = np.ones((2,3),np.uint8)\n",
    "chg =cv2.morphologyEx(TableRepo.mask,cv2.MORPH_GRADIENT,kernal)\n",
    "cv2.imshow (\"Hii\",chg)\n",
    "cv2.waitKey()\n",
    "cv2.destroyAllWindows()\n"
   ]
  },
  {
   "cell_type": "code",
   "execution_count": null,
   "metadata": {},
   "outputs": [],
   "source": []
  }
 ],
 "metadata": {
  "kernelspec": {
   "display_name": "Python 3",
   "language": "python",
   "name": "python3"
  },
  "language_info": {
   "codemirror_mode": {
    "name": "ipython",
    "version": 3
   },
   "file_extension": ".py",
   "mimetype": "text/x-python",
   "name": "python",
   "nbconvert_exporter": "python",
   "pygments_lexer": "ipython3",
   "version": "3.7.6"
  }
 },
 "nbformat": 4,
 "nbformat_minor": 4
}
